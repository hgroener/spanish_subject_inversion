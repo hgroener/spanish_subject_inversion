{
 "cells": [
  {
   "cell_type": "markdown",
   "metadata": {},
   "source": [
    "# Subjektinversion im Spanischen\n",
    "## Eine Korpusstudie"
   ]
  },
  {
   "cell_type": "code",
   "execution_count": null,
   "metadata": {},
   "outputs": [],
   "source": [
    "import pyconll\n",
    "import csv "
   ]
  },
  {
   "cell_type": "code",
   "execution_count": 1,
   "metadata": {},
   "outputs": [],
   "source": [
    "import pandas as pd\n",
    "import numpy as np"
   ]
  },
  {
   "cell_type": "markdown",
   "metadata": {},
   "source": [
    "### Kandidatensätze extrahieren"
   ]
  },
  {
   "cell_type": "code",
   "execution_count": 4,
   "metadata": {},
   "outputs": [],
   "source": [
    "# Korpus\n",
    "sent_file = pyconll.load_from_file('es_ancora-ud-dev.conllu')"
   ]
  },
  {
   "cell_type": "code",
   "execution_count": 51,
   "metadata": {},
   "outputs": [],
   "source": [
    "# Kandidatensätze aus Korpus extrahieren\n",
    "\n",
    "def get_vs_sents(sents, prodrop = True):\n",
    "\n",
    "    vs_sentences = []\n",
    "    prodrop_sents = []\n",
    "\n",
    "    for n, sentence in enumerate(sents):\n",
    "        vs_pair = None\n",
    "        subj_list = []\n",
    "        verb = None\n",
    "        for token in sentence:\n",
    "            #print(token.conll())\n",
    "            #print(token.form, token.deprel)\n",
    "            if token.deprel == \"nsubj\": \n",
    "                subj_list.append(token)\n",
    "            if token.deprel == \"root\" and (token.upos==\"VERB\" or token.upos==\"AUX\"): \n",
    "                verb = token\n",
    "        if len(subj_list) > 0 and verb:\n",
    "            for subj in subj_list:\n",
    "                if list(subj.deps.keys())[0] == verb.id:\n",
    "                    if int(subj.id) > int(verb.id):\n",
    "                        vs_pair = (subj.form, verb.form)\n",
    "                        break\n",
    "            if vs_pair:\n",
    "                vs_sentences.append((n, vs_pair, sentence.text))\n",
    "            elif prodrop and not verb.id in [list(sub.deps.keys())[0] for sub in subj_list]:\n",
    "                vs_sentences.append((n, (verb.form, \"\"), sentence.text))\n",
    "        elif prodrop and len(subj_list) == 0 and verb: \n",
    "            vs_sentences.append((n, (verb.form,\"\"), sentence.text))\n",
    "\n",
    "    return(vs_sentences)\n",
    "\n",
    "\n",
    "    "
   ]
  },
  {
   "cell_type": "code",
   "execution_count": 52,
   "metadata": {},
   "outputs": [],
   "source": [
    "vs_sents = get_vs_sents(sent_file)"
   ]
  },
  {
   "cell_type": "code",
   "execution_count": 53,
   "metadata": {},
   "outputs": [
    {
     "data": {
      "text/plain": [
       "441"
      ]
     },
     "execution_count": 53,
     "metadata": {},
     "output_type": "execute_result"
    }
   ],
   "source": [
    "len(vs_sents)"
   ]
  },
  {
   "cell_type": "code",
   "execution_count": 58,
   "metadata": {},
   "outputs": [
    {
     "name": "stdout",
     "output_type": "stream",
     "text": [
      "# sent_id = 3LB-CAST-d2-6-s12\n",
      "# text = Muy entero debe de encontrarse para verter sobre el asfalto unas energías a las que deberá apelar en los momentos importantes que aún quedan por desvelar sus rudos secretos (Valdezcaray, Covadonga, Avila y Segovia).\n",
      "# orig_file_sentence 002#26\n",
      "1\tMuy\tmucho\tADV\trg\t_\t5\tadvmod\t5:advmod\t_\n",
      "2\tentero\tentero\tADJ\taq0ms0\tGender=Masc|Number=Sing\t5\txcomp\t5:xcomp\tArgTem=arg2:atr\n",
      "3\tdebe\tdeber\tAUX\tvmip3s0\tMood=Ind|Number=Sing|Person=3|Tense=Pres|VerbForm=Fin\t5\taux\t5:aux\t_\n",
      "4\tde\tde\tADP\tsps00\t_\t2\tcase\t2:case\t_\n",
      "5-6\tencontrarse\t_\t_\t_\t_\t_\t_\t_\t_\n",
      "5\tencontrar\tencontrar\tVERB\tvmn0000\tVerbForm=Inf\t0\troot\t0:root\t_\n",
      "6\tse\tél\tPRON\t_\tCase=Acc|Person=3|PrepCase=Npr|PronType=Prs|Reflex=Yes\t5\texpl:pv\t5:expl:pv\t_\n",
      "7\tpara\tpara\tADP\tsps00\t_\t8\tmark\t8:mark\t_\n",
      "8\tverter\tverter\tVERB\tvmn0000\tVerbForm=Inf\t2\tadvcl\t2:advcl\tArgTem=argM:adv\n",
      "9\tsobre\tsobre\tADP\tsps00\t_\t11\tcase\t11:case\t_\n",
      "10\tel\tel\tDET\tda0ms0\tDefinite=Def|Gender=Masc|Number=Sing|PronType=Art\t11\tdet\t11:det\t_\n",
      "11\tasfalto\tasfalto\tNOUN\tncms000\tGender=Masc|Number=Sing\t8\tobl\t8:obl\tArgTem=arg2:loc\n",
      "12\tunas\tuno\tDET\tdi0fp0\tDefinite=Ind|Gender=Fem|Number=Plur|PronType=Art\t13\tdet\t13:det\t_\n",
      "13\tenergías\tenergía\tNOUN\tncfp000\tGender=Fem|Number=Plur\t8\tobj\t8:obj\tArgTem=arg1:pat\n",
      "14\ta\ta\tADP\tsps00\t_\t16\tcase\t16:case\t_\n",
      "15\tlas\tel\tDET\tda0fp0\tDefinite=Def|Gender=Fem|Number=Plur|PronType=Art\t16\tdet\t16:det\tArgTem=arg1:tem\n",
      "16\tque\tque\tPRON\tpr0cn000\tPronType=Rel\t18\tobl:arg\t18:obl:arg\t_\n",
      "17\tdeberá\tdeber\tAUX\tvmif3s0\tMood=Ind|Number=Sing|Person=3|Tense=Fut|VerbForm=Fin\t18\taux\t18:aux\t_\n",
      "18\tapelar\tapelar\tVERB\tvmn0000\tVerbForm=Inf\t13\tacl\t13:acl\t_\n",
      "19\ten\ten\tADP\tsps00\t_\t21\tcase\t21:case\t_\n",
      "20\tlos\tel\tDET\tda0mp0\tDefinite=Def|Gender=Masc|Number=Plur|PronType=Art\t21\tdet\t21:det\t_\n",
      "21\tmomentos\tmomento\tNOUN\tncmp000\tGender=Masc|Number=Plur\t18\tobl\t18:obl\tArgTem=argM:tmp\n",
      "22\timportantes\timportante\tADJ\taq0cp0\tNumber=Plur\t21\tamod\t21:amod\t_\n",
      "23\tque\tque\tPRON\tpr0cn000\tPronType=Rel\t25\tnsubj\t25:nsubj\tArgTem=arg1:tem\n",
      "24\taún\taún\tADV\trg\t_\t25\tadvmod\t25:advmod\tArgTem=argM:adv\n",
      "25\tquedan\tquedar\tVERB\tvmip3p0\tMood=Ind|Number=Plur|Person=3|Tense=Pres|VerbForm=Fin\t21\tacl\t21:acl\t_\n",
      "26\tpor\tpor\tADP\tsps00\t_\t27\tmark\t27:mark\t_\n",
      "27\tdesvelar\tdesvelar\tVERB\tvmn0000\tVerbForm=Inf\t25\tadvcl\t25:advcl\tArgTem=arg2:atr\n",
      "28\tsus\tsu\tDET\tdp3cp0\tNumber=Plur|Person=3|Poss=Yes|PronType=Prs\t30\tdet\t30:det\t_\n",
      "29\trudos\trudo\tADJ\taq0mp0\tGender=Masc|Number=Plur\t30\tamod\t30:amod\t_\n",
      "30\tsecretos\tsecreto\tNOUN\tncmp000\tGender=Masc|Number=Plur\t27\tobj\t27:obj\tArgTem=arg1:pat\n",
      "31\t(\t(\tPUNCT\tfpa\tPunctSide=Ini|PunctType=Brck\t32\tpunct\t32:punct\tSpaceAfter=No\n",
      "32\tValdezcaray\tValdezcaray\tPROPN\tnp0000l\t_\t21\tappos\t21:appos\tSpaceAfter=No\n",
      "33\t,\t,\tPUNCT\tfc\tPunctType=Comm\t34\tpunct\t34:punct\t_\n",
      "34\tCovadonga\tCovadonga\tPROPN\tnp0000l\t_\t32\tconj\t32:conj\tSpaceAfter=No\n",
      "35\t,\t,\tPUNCT\tfc\tPunctType=Comm\t36\tpunct\t36:punct\t_\n",
      "36\tAvila\tAvila\tPROPN\tnp0000l\t_\t32\tconj\t32:conj\t_\n",
      "37\ty\ty\tCCONJ\tcc\t_\t38\tcc\t38:cc\t_\n",
      "38\tSegovia\tSegovia\tPROPN\tnp0000l\t_\t32\tconj\t32:conj\tSpaceAfter=No\n",
      "39\t)\t)\tPUNCT\tfpt\tPunctSide=Fin|PunctType=Brck\t32\tpunct\t32:punct\tSpaceAfter=No\n",
      "40\t.\t.\tPUNCT\tfp\tPunctType=Peri\t5\tpunct\t5:punct\t_\n"
     ]
    }
   ],
   "source": [
    "# Aufbau der Annotation im Korpus\n",
    "print(train[125].conll())"
   ]
  },
  {
   "cell_type": "code",
   "execution_count": 55,
   "metadata": {},
   "outputs": [],
   "source": [
    "# Kandidatensätze als csv-Datei speichern\n",
    "with open('output/vs_sents.csv','w') as out:\n",
    "    csv_out=csv.writer(out)\n",
    "    csv_out.writerow(['num','pairs','text'])\n",
    "    for row in vs_sents:\n",
    "        csv_out.writerow(row)\n",
    "\n",
    "            "
   ]
  },
  {
   "cell_type": "code",
   "execution_count": null,
   "metadata": {},
   "outputs": [],
   "source": [
    "# Alle Sätze als csv-Datei speichern\n",
    "with open('output/all_sents.csv','w') as out:\n",
    "    csv_out=csv.writer(out)\n",
    "    csv_out.writerow(['n', 'text'])\n",
    "    for n, row in enumerate(train):\n",
    "        csv_out.writerow((n, row.text))"
   ]
  },
  {
   "cell_type": "markdown",
   "metadata": {},
   "source": [
    "### Subjekttyp-Tabelle"
   ]
  },
  {
   "cell_type": "code",
   "execution_count": 33,
   "metadata": {},
   "outputs": [],
   "source": [
    "# Von Hand gelabelte Excel-Datei auslesen\n",
    "df_labeled = pd.read_excel(\"output/vs_sents_labeled.xlsx\", sheet_name=0)"
   ]
  },
  {
   "cell_type": "code",
   "execution_count": 22,
   "metadata": {},
   "outputs": [
    {
     "data": {
      "text/html": [
       "<div>\n",
       "<style scoped>\n",
       "    .dataframe tbody tr th:only-of-type {\n",
       "        vertical-align: middle;\n",
       "    }\n",
       "\n",
       "    .dataframe tbody tr th {\n",
       "        vertical-align: top;\n",
       "    }\n",
       "\n",
       "    .dataframe thead th {\n",
       "        text-align: right;\n",
       "    }\n",
       "</style>\n",
       "<table border=\"1\" class=\"dataframe\">\n",
       "  <thead>\n",
       "    <tr style=\"text-align: right;\">\n",
       "      <th></th>\n",
       "      <th>num</th>\n",
       "      <th>pairs</th>\n",
       "      <th>text</th>\n",
       "      <th>prelim</th>\n",
       "      <th>type</th>\n",
       "      <th>prop_cat</th>\n",
       "      <th>verb_type</th>\n",
       "      <th>noun_type</th>\n",
       "      <th>comment</th>\n",
       "    </tr>\n",
       "  </thead>\n",
       "  <tbody>\n",
       "    <tr>\n",
       "      <th>0</th>\n",
       "      <td>2</td>\n",
       "      <td>('entró', '')</td>\n",
       "      <td>Desde entonces entró en silencio absoluto.</td>\n",
       "      <td>sv</td>\n",
       "      <td>NaN</td>\n",
       "      <td>NaN</td>\n",
       "      <td>NaN</td>\n",
       "      <td>NaN</td>\n",
       "      <td>NaN</td>\n",
       "    </tr>\n",
       "    <tr>\n",
       "      <th>1</th>\n",
       "      <td>4</td>\n",
       "      <td>('ministro', 'suelen')</td>\n",
       "      <td>Por su boca suelen hablar de vez en cuando tan...</td>\n",
       "      <td>vs</td>\n",
       "      <td>2.0</td>\n",
       "      <td>UEI</td>\n",
       "      <td>ue</td>\n",
       "      <td>dpd</td>\n",
       "      <td>NaN</td>\n",
       "    </tr>\n",
       "    <tr>\n",
       "      <th>2</th>\n",
       "      <td>5</td>\n",
       "      <td>('sabe', '')</td>\n",
       "      <td>Por la Cancillería se sabe que la gira preside...</td>\n",
       "      <td>0</td>\n",
       "      <td>NaN</td>\n",
       "      <td>NaN</td>\n",
       "      <td>NaN</td>\n",
       "      <td>NaN</td>\n",
       "      <td>impersonell</td>\n",
       "    </tr>\n",
       "    <tr>\n",
       "      <th>3</th>\n",
       "      <td>13</td>\n",
       "      <td>('Hurtado', 'declaró')</td>\n",
       "      <td>\"El pueblo puede estar seguro de que aquí no e...</td>\n",
       "      <td>vs</td>\n",
       "      <td>1.0</td>\n",
       "      <td>QI</td>\n",
       "      <td>t</td>\n",
       "      <td>dpd</td>\n",
       "      <td>NaN</td>\n",
       "    </tr>\n",
       "    <tr>\n",
       "      <th>4</th>\n",
       "      <td>14</td>\n",
       "      <td>('Añadió', '')</td>\n",
       "      <td>Añadió que desconoce la procedencia de los rum...</td>\n",
       "      <td>sv</td>\n",
       "      <td>NaN</td>\n",
       "      <td>NaN</td>\n",
       "      <td>NaN</td>\n",
       "      <td>NaN</td>\n",
       "      <td>NaN</td>\n",
       "    </tr>\n",
       "    <tr>\n",
       "      <th>...</th>\n",
       "      <td>...</td>\n",
       "      <td>...</td>\n",
       "      <td>...</td>\n",
       "      <td>...</td>\n",
       "      <td>...</td>\n",
       "      <td>...</td>\n",
       "      <td>...</td>\n",
       "      <td>...</td>\n",
       "      <td>...</td>\n",
       "    </tr>\n",
       "    <tr>\n",
       "      <th>436</th>\n",
       "      <td>1643</td>\n",
       "      <td>('dijo', '')</td>\n",
       "      <td>La ley da para mucho y la voluntad del pueblo ...</td>\n",
       "      <td>vs</td>\n",
       "      <td>1.0</td>\n",
       "      <td>QI</td>\n",
       "      <td>t</td>\n",
       "      <td>n</td>\n",
       "      <td>NaN</td>\n",
       "    </tr>\n",
       "    <tr>\n",
       "      <th>437</th>\n",
       "      <td>1645</td>\n",
       "      <td>('dijo', '')</td>\n",
       "      <td>\"Hemos hecho un acuerdo porque creemos que es ...</td>\n",
       "      <td>vs</td>\n",
       "      <td>1.0</td>\n",
       "      <td>QI</td>\n",
       "      <td>t</td>\n",
       "      <td>n</td>\n",
       "      <td>NaN</td>\n",
       "    </tr>\n",
       "    <tr>\n",
       "      <th>438</th>\n",
       "      <td>1648</td>\n",
       "      <td>('Arzalluz', 'dijo')</td>\n",
       "      <td>\"En el PNV tenemos derecho a pensar de él lo q...</td>\n",
       "      <td>vs</td>\n",
       "      <td>1.0</td>\n",
       "      <td>QI</td>\n",
       "      <td>t</td>\n",
       "      <td>dpd</td>\n",
       "      <td>NaN</td>\n",
       "    </tr>\n",
       "    <tr>\n",
       "      <th>439</th>\n",
       "      <td>1651</td>\n",
       "      <td>('Citó', '')</td>\n",
       "      <td>Citó un texto del presidente en el diario Nuev...</td>\n",
       "      <td>sv</td>\n",
       "      <td>NaN</td>\n",
       "      <td>NaN</td>\n",
       "      <td>NaN</td>\n",
       "      <td>NaN</td>\n",
       "      <td>NaN</td>\n",
       "    </tr>\n",
       "    <tr>\n",
       "      <th>440</th>\n",
       "      <td>1653</td>\n",
       "      <td>('aprueba', '')</td>\n",
       "      <td>\" El de Guernica aprueba por unanimidad retira...</td>\n",
       "      <td>sv</td>\n",
       "      <td>NaN</td>\n",
       "      <td>NaN</td>\n",
       "      <td>NaN</td>\n",
       "      <td>NaN</td>\n",
       "      <td>NaN</td>\n",
       "    </tr>\n",
       "  </tbody>\n",
       "</table>\n",
       "<p>441 rows × 9 columns</p>\n",
       "</div>"
      ],
      "text/plain": [
       "      num                   pairs  \\\n",
       "0       2           ('entró', '')   \n",
       "1       4  ('ministro', 'suelen')   \n",
       "2       5            ('sabe', '')   \n",
       "3      13  ('Hurtado', 'declaró')   \n",
       "4      14          ('Añadió', '')   \n",
       "..    ...                     ...   \n",
       "436  1643            ('dijo', '')   \n",
       "437  1645            ('dijo', '')   \n",
       "438  1648    ('Arzalluz', 'dijo')   \n",
       "439  1651            ('Citó', '')   \n",
       "440  1653         ('aprueba', '')   \n",
       "\n",
       "                                                  text prelim  type prop_cat  \\\n",
       "0           Desde entonces entró en silencio absoluto.     sv   NaN      NaN   \n",
       "1    Por su boca suelen hablar de vez en cuando tan...     vs   2.0      UEI   \n",
       "2    Por la Cancillería se sabe que la gira preside...      0   NaN      NaN   \n",
       "3    \"El pueblo puede estar seguro de que aquí no e...     vs   1.0       QI   \n",
       "4    Añadió que desconoce la procedencia de los rum...     sv   NaN      NaN   \n",
       "..                                                 ...    ...   ...      ...   \n",
       "436  La ley da para mucho y la voluntad del pueblo ...     vs   1.0       QI   \n",
       "437  \"Hemos hecho un acuerdo porque creemos que es ...     vs   1.0       QI   \n",
       "438  \"En el PNV tenemos derecho a pensar de él lo q...     vs   1.0       QI   \n",
       "439  Citó un texto del presidente en el diario Nuev...     sv   NaN      NaN   \n",
       "440  \" El de Guernica aprueba por unanimidad retira...     sv   NaN      NaN   \n",
       "\n",
       "    verb_type noun_type       comment  \n",
       "0         NaN       NaN           NaN  \n",
       "1          ue       dpd           NaN  \n",
       "2         NaN       NaN  impersonell   \n",
       "3           t       dpd           NaN  \n",
       "4         NaN       NaN           NaN  \n",
       "..        ...       ...           ...  \n",
       "436         t         n           NaN  \n",
       "437         t         n           NaN  \n",
       "438         t       dpd           NaN  \n",
       "439       NaN       NaN           NaN  \n",
       "440       NaN       NaN           NaN  \n",
       "\n",
       "[441 rows x 9 columns]"
      ]
     },
     "metadata": {},
     "output_type": "display_data"
    }
   ],
   "source": [
    "display(df_labeled)"
   ]
  },
  {
   "cell_type": "code",
   "execution_count": 23,
   "metadata": {},
   "outputs": [
    {
     "data": {
      "text/plain": [
       "211"
      ]
     },
     "execution_count": 23,
     "metadata": {},
     "output_type": "execute_result"
    }
   ],
   "source": [
    "# Anzahl von VS-Sätzen\n",
    "len(df_labeled[df_labeled[\"prelim\"]==\"vs\"])"
   ]
  },
  {
   "cell_type": "code",
   "execution_count": 25,
   "metadata": {},
   "outputs": [
    {
     "data": {
      "text/plain": [
       "115"
      ]
     },
     "execution_count": 25,
     "metadata": {},
     "output_type": "execute_result"
    }
   ],
   "source": [
    "# Anzahl von Typ-1-Sätzen\n",
    "len(df_labeled[(df_labeled[\"prelim\"]==\"vs\") & (df_labeled[\"type\"]==1)])"
   ]
  },
  {
   "cell_type": "code",
   "execution_count": 26,
   "metadata": {},
   "outputs": [
    {
     "data": {
      "text/plain": [
       "106"
      ]
     },
     "execution_count": 26,
     "metadata": {},
     "output_type": "execute_result"
    }
   ],
   "source": [
    "# Anzahl von Quotative-Inversions-Sätzen\n",
    "len(df_labeled[(df_labeled[\"prelim\"]==\"vs\") & (df_labeled[\"type\"]==1) & (df_labeled[\"prop_cat\"]==\"QI\")])"
   ]
  },
  {
   "cell_type": "code",
   "execution_count": 27,
   "metadata": {},
   "outputs": [
    {
     "data": {
      "text/plain": [
       "96"
      ]
     },
     "execution_count": 27,
     "metadata": {},
     "output_type": "execute_result"
    }
   ],
   "source": [
    "# Anzahl von Typ-2-Sätzen\n",
    "len(df_labeled[(df_labeled[\"prelim\"]==\"vs\") & (df_labeled[\"type\"]==2)])"
   ]
  },
  {
   "cell_type": "code",
   "execution_count": 28,
   "metadata": {
    "scrolled": true
   },
   "outputs": [
    {
     "name": "stdout",
     "output_type": "stream",
     "text": [
      "UAI\n",
      "47\n",
      "TI\n",
      "14\n",
      "NF\n",
      "2\n",
      "UEI\n",
      "23\n",
      "F\n",
      "3\n",
      "QI\n",
      "106\n",
      "LI\n",
      "9\n",
      "WH\n",
      "5\n",
      "FF\n",
      "1\n",
      "QF\n",
      "1\n"
     ]
    }
   ],
   "source": [
    "# Anzahl von Sätzen pro Kategorie \n",
    "for c in set(list(df_labeled[\"prop_cat\"])):\n",
    "    if not pd.isna(c):\n",
    "        print(c)\n",
    "        print(len(df_labeled[(df_labeled[\"prelim\"]==\"vs\") & (df_labeled[\"prop_cat\"]==c)]))\n",
    "        "
   ]
  },
  {
   "cell_type": "code",
   "execution_count": 83,
   "metadata": {},
   "outputs": [
    {
     "data": {
      "text/html": [
       "<div>\n",
       "<style scoped>\n",
       "    .dataframe tbody tr th:only-of-type {\n",
       "        vertical-align: middle;\n",
       "    }\n",
       "\n",
       "    .dataframe tbody tr th {\n",
       "        vertical-align: top;\n",
       "    }\n",
       "\n",
       "    .dataframe thead tr th {\n",
       "        text-align: left;\n",
       "    }\n",
       "</style>\n",
       "<table border=\"1\" class=\"dataframe\">\n",
       "  <thead>\n",
       "    <tr>\n",
       "      <th></th>\n",
       "      <th>Art von Subjekt</th>\n",
       "      <th colspan=\"2\" halign=\"left\">Typ 1</th>\n",
       "      <th colspan=\"2\" halign=\"left\">Typ 2</th>\n",
       "    </tr>\n",
       "    <tr>\n",
       "      <th></th>\n",
       "      <th></th>\n",
       "      <th>absolut</th>\n",
       "      <th>%</th>\n",
       "      <th>absolut</th>\n",
       "      <th>%</th>\n",
       "    </tr>\n",
       "  </thead>\n",
       "  <tbody>\n",
       "    <tr>\n",
       "      <th>0</th>\n",
       "      <td>dpb</td>\n",
       "      <td>1</td>\n",
       "      <td>0.87</td>\n",
       "      <td>5</td>\n",
       "      <td>5.21</td>\n",
       "    </tr>\n",
       "    <tr>\n",
       "      <th>1</th>\n",
       "      <td>dpd</td>\n",
       "      <td>74</td>\n",
       "      <td>64.35</td>\n",
       "      <td>55</td>\n",
       "      <td>57.29</td>\n",
       "    </tr>\n",
       "    <tr>\n",
       "      <th>2</th>\n",
       "      <td>dpid</td>\n",
       "      <td>7</td>\n",
       "      <td>6.09</td>\n",
       "      <td>24</td>\n",
       "      <td>25.00</td>\n",
       "    </tr>\n",
       "    <tr>\n",
       "      <th>3</th>\n",
       "      <td>n</td>\n",
       "      <td>33</td>\n",
       "      <td>28.70</td>\n",
       "      <td>0</td>\n",
       "      <td>0.00</td>\n",
       "    </tr>\n",
       "    <tr>\n",
       "      <th>4</th>\n",
       "      <td>pd</td>\n",
       "      <td>0</td>\n",
       "      <td>0.00</td>\n",
       "      <td>3</td>\n",
       "      <td>3.12</td>\n",
       "    </tr>\n",
       "    <tr>\n",
       "      <th>5</th>\n",
       "      <td>pid</td>\n",
       "      <td>0</td>\n",
       "      <td>0.00</td>\n",
       "      <td>2</td>\n",
       "      <td>2.08</td>\n",
       "    </tr>\n",
       "    <tr>\n",
       "      <th>6</th>\n",
       "      <td>s</td>\n",
       "      <td>0</td>\n",
       "      <td>0.00</td>\n",
       "      <td>7</td>\n",
       "      <td>7.29</td>\n",
       "    </tr>\n",
       "    <tr>\n",
       "      <th>7</th>\n",
       "      <td>total</td>\n",
       "      <td>115</td>\n",
       "      <td>100.00</td>\n",
       "      <td>96</td>\n",
       "      <td>100.00</td>\n",
       "    </tr>\n",
       "  </tbody>\n",
       "</table>\n",
       "</div>"
      ],
      "text/plain": [
       "  Art von Subjekt   Typ 1           Typ 2        \n",
       "                  absolut       % absolut       %\n",
       "0             dpb       1    0.87       5    5.21\n",
       "1             dpd      74   64.35      55   57.29\n",
       "2            dpid       7    6.09      24   25.00\n",
       "3               n      33   28.70       0    0.00\n",
       "4              pd       0    0.00       3    3.12\n",
       "5             pid       0    0.00       2    2.08\n",
       "6               s       0    0.00       7    7.29\n",
       "7           total     115  100.00      96  100.00"
      ]
     },
     "metadata": {},
     "output_type": "display_data"
    }
   ],
   "source": [
    "# Tabelle mit absoluter Anzahl und prozentualem Anteil von Subjekttypen nach Inversionstyp\n",
    "\n",
    "noun_types = sorted(list(set([i for i in list(df_labeled[\"noun_type\"]) if not pd.isna(i)]))) \n",
    "noun_types.append(\"total\")\n",
    "\n",
    "index = pd.MultiIndex.from_tuples([(\"Art von Subjekt\", \"\"), (\"Typ 1\", \"absolut\"), (\"Typ 1\", \"%\"), (\"Typ 2\", \"absolut\"), (\"Typ 2\", \"%\")])\n",
    "type_df = pd.DataFrame(columns=index)\n",
    "type_df[\"Art von Subjekt\", \"\"] = noun_types\n",
    "for t in [1, 2]:\n",
    "    #print(t)\n",
    "    len_list = []\n",
    "    for c in noun_types[:-1]:\n",
    "        len_list.append(len(df_labeled[(df_labeled[\"type\"]==t) & (df_labeled[\"noun_type\"]==c)]))\n",
    "    total = len(df_labeled[df_labeled[\"type\"]==t])\n",
    "    len_list.append(total)\n",
    "    type_df[\"Typ \" + str(t), \"absolut\"] = len_list\n",
    "    perc = [(l/total)*100 for l in len_list]\n",
    "    type_df[\"Typ \" + str(t), \"%\"] = perc\n",
    "type_df = type_df.round(2)        \n",
    "display(type_df)"
   ]
  },
  {
   "cell_type": "code",
   "execution_count": 84,
   "metadata": {},
   "outputs": [],
   "source": [
    "# Abkürzungen durch ganze Namen ersetzen\n",
    "noun_types_full = [\"bloße Nomen\", \"DPs definit\", \"DPs indefinit\", \"Nullsubjekte\", \n",
    "                   \"Pronomen definit\", \"Pronomen indefinit\", \"sonstige\", \"Summe\"]\n",
    "type_df[\"Art von Subjekt\", \"\"] = noun_types_full"
   ]
  },
  {
   "cell_type": "code",
   "execution_count": 86,
   "metadata": {},
   "outputs": [],
   "source": [
    "# Tabelle als csv-Datei speichern\n",
    "type_df.to_csv(\"output/type_df.csv\")"
   ]
  },
  {
   "cell_type": "code",
   "execution_count": 87,
   "metadata": {},
   "outputs": [
    {
     "name": "stdout",
     "output_type": "stream",
     "text": [
      "\\begin{table}\n",
      "\\centering\n",
      "\\caption{\\label{nttable}Arten von Subjekten nach Inversionstyp}\n",
      "\\begin{tabular}{lrrrr}\n",
      "\\toprule\n",
      "    Art von Subjekt & \\multicolumn{2}{l}{Typ 1} & \\multicolumn{2}{l}{Typ 2} \\\\\n",
      "                    & absolut &       \\% & absolut &       \\% \\\\\n",
      "\\midrule\n",
      "        bloße Nomen &       1 &    0.87 &       5 &    5.21 \\\\\n",
      "        DPs definit &      74 &   64.35 &      55 &   57.29 \\\\\n",
      "      DPs indefinit &       7 &    6.09 &      24 &   25.00 \\\\\n",
      "       Nullsubjekte &      33 &   28.70 &       0 &    0.00 \\\\\n",
      "   Pronomen definit &       0 &    0.00 &       3 &    3.12 \\\\\n",
      " Pronomen indefinit &       0 &    0.00 &       2 &    2.08 \\\\\n",
      "           sonstige &       0 &    0.00 &       7 &    7.29 \\\\\n",
      "              Summe &     115 &  100.00 &      96 &  100.00 \\\\\n",
      "\\bottomrule\n",
      "\\end{tabular}\n",
      "\\end{table}\n",
      "\n"
     ]
    }
   ],
   "source": [
    "#Latex-Tabelle \n",
    "print(type_df.to_latex(index=False, caption=\"\\label{nttable}Arten von Subjekten nach Inversionstyp\"))"
   ]
  },
  {
   "cell_type": "code",
   "execution_count": null,
   "metadata": {},
   "outputs": [],
   "source": []
  }
 ],
 "metadata": {
  "kernelspec": {
   "display_name": "Python 3",
   "language": "python",
   "name": "python3"
  },
  "language_info": {
   "codemirror_mode": {
    "name": "ipython",
    "version": 3
   },
   "file_extension": ".py",
   "mimetype": "text/x-python",
   "name": "python",
   "nbconvert_exporter": "python",
   "pygments_lexer": "ipython3",
   "version": "3.8.5"
  }
 },
 "nbformat": 4,
 "nbformat_minor": 2
}
